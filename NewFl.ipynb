{
  "nbformat": 4,
  "nbformat_minor": 0,
  "metadata": {
    "colab": {
      "provenance": [],
      "authorship_tag": "ABX9TyOSNZ9qmHczU/BdJ/vIpe0G",
      "include_colab_link": true
    },
    "kernelspec": {
      "name": "python3",
      "display_name": "Python 3"
    },
    "language_info": {
      "name": "python"
    }
  },
  "cells": [
    {
      "cell_type": "markdown",
      "metadata": {
        "id": "view-in-github",
        "colab_type": "text"
      },
      "source": [
        "<a href=\"https://colab.research.google.com/github/PARAS759/Dog-Breed-identification/blob/main/NewFl.ipynb\" target=\"_parent\"><img src=\"https://colab.research.google.com/assets/colab-badge.svg\" alt=\"Open In Colab\"/></a>"
      ]
    },
    {
      "cell_type": "code",
      "source": [
        "img_path = '/content/images/gettyimages-154918294-612x612.jpg'"
      ],
      "metadata": {
        "id": "Ot5wGhWD65oB"
      },
      "execution_count": 26,
      "outputs": []
    },
    {
      "cell_type": "code",
      "source": [
        "import numpy as np \n",
        "import pandas as pd\n",
        "import os\n",
        "import pickle\n",
        "from tensorflow.keras.preprocessing.image import load_img\n",
        "from keras.callbacks import ReduceLROnPlateau\n",
        "from keras.layers import Flatten, Dense, BatchNormalization, Activation, Dropout\n",
        "from keras.layers import Lambda, Input , GlobalAveragePooling2D , BatchNormalization\n",
        "from keras.utils import to_categorical\n",
        "from tensorflow.keras.models import Model\n",
        "\n",
        "labels = pd.read_csv('/content/labels.csv')\n",
        "classes  = sorted(list(set(labels['breed'])))\n",
        "n_classes = len(classes)\n",
        "\n",
        "class_to_num = dict(zip(classes , range(n_classes)))\n",
        "\n",
        "pickled_model = pickle.load(open('model1.pkl', 'rb'))\n",
        "\n",
        "img_size = (250,250,3)\n",
        "path = '/content/images/download.jpeg'\n",
        "Image = (path)\n",
        "img_g = load_img(path,target_size = img_size)\n",
        "img_g = np.expand_dims(img_g,axis=0)\n",
        "\n",
        "def get_features(mode_name , model_preprocessor , input_size , data):\n",
        "  input_layer = Input(input_size)\n",
        "  preprocessor = Lambda(model_preprocessor)(input_layer)\n",
        "  base_model = mode_name(weights = 'imagenet' , include_top = False , input_shape = input_size)(preprocessor)\n",
        "  avg  = GlobalAveragePooling2D()(base_model)\n",
        "  feature_extractor = Model(inputs = input_layer , outputs = avg)\n",
        "\n",
        "  # Extract feature\n",
        "  feature_maps = feature_extractor.predict(data,verbose = 1)\n",
        "  # print('Feature maps shape : ',feature_maps.shape)\n",
        "  return feature_maps\n",
        "\n",
        "  from tqdm import tqdm\n",
        "from __future__ import annotations\n",
        "def images_to_array_test(test_path, img_size = (250,250,3)):\n",
        "  test_filenames = [test_path+fname for fname in os.listdir(test_path)]\n",
        "\n",
        "  data_size = len(test_filenames)\n",
        "  images = np.zeros([data_size , img_size[0] , img_size[1],3],dtype = np.uint8)\n",
        "\n",
        "  for ix,img_dir in enumerate(tqdm(test_filenames)):\n",
        "    img = load_img(img_dir, target_size = img_size)\n",
        "    images[ix] = img\n",
        "    del img\n",
        "  # print('Output Datasize : ',images.shape)\n",
        "  return images\n",
        "\n",
        "\n",
        "img = load_img(img_path, target_size = img_size)\n",
        "images = np.zeros([1 , img_size[0] , img_size[1],3],dtype = np.uint8)\n",
        "images[0] = img\n",
        "# images.shape\n",
        "\n",
        "from keras.applications.inception_v3 import InceptionV3 , preprocess_input\n",
        "inception_preprocessor = preprocess_input\n",
        "from keras.applications.nasnet import NASNetLarge , preprocess_input\n",
        "nasnet_preprocessor = preprocess_input\n",
        "from keras.applications.inception_resnet_v2 import InceptionResNetV2 , preprocess_input\n",
        "inc_resnet_preprocessor = preprocess_input\n",
        "from keras.applications.xception import Xception, preprocess_input\n",
        "xception_preprocessor =  preprocess_input\n",
        "\n",
        "def extract_features(data):\n",
        "  inception_features = get_features(InceptionV3 , inception_preprocessor , img_size , data)\n",
        "  xception_features = get_features(Xception,xception_preprocessor , img_size , data)\n",
        "  nasnet_features = get_features(NASNetLarge,nasnet_preprocessor , img_size , data)\n",
        "  inc_resnet_features = get_features(InceptionResNetV2 , inc_resnet_preprocessor , img_size , data)\n",
        "\n",
        "  final_features = np.concatenate([inception_features , xception_features , nasnet_features , inc_resnet_features],axis = -1)\n",
        "\n",
        "  # print('Final feature maps shape' , final_features.shape)\n",
        "\n",
        "  return final_features\n",
        "\n",
        "test_features = extract_features(images)\n",
        "\n",
        "predg = pickled_model.predict(test_features)\n",
        "\n",
        "print(f\"{classes[np.argmax(predg[0])]}\")"
      ],
      "metadata": {
        "colab": {
          "base_uri": "https://localhost:8080/"
        },
        "id": "20J5AXHP-gjm",
        "outputId": "28b177bb-43d7-4109-a15e-c0fa571ec36a"
      },
      "execution_count": 25,
      "outputs": [
        {
          "output_type": "stream",
          "name": "stdout",
          "text": [
            "1/1 [==============================] - 2s 2s/step\n",
            "1/1 [==============================] - 2s 2s/step\n",
            "1/1 [==============================] - 8s 8s/step\n",
            "1/1 [==============================] - 6s 6s/step\n",
            "1/1 [==============================] - 0s 82ms/step\n",
            "labrador_retriever\n"
          ]
        }
      ]
    },
    {
      "cell_type": "code",
      "source": [
        "import numpy as np \n",
        "import pandas as pd\n",
        "import os\n",
        "import pickle\n",
        "from tensorflow.keras.preprocessing.image import load_img\n",
        "from keras.callbacks import ReduceLROnPlateau\n",
        "from keras.layers import Flatten, Dense, BatchNormalization, Activation, Dropout\n",
        "from keras.layers import Lambda, Input , GlobalAveragePooling2D , BatchNormalization\n",
        "from keras.utils import to_categorical\n",
        "from tensorflow.keras.models import Model"
      ],
      "metadata": {
        "id": "bi6wZdFJH_PL"
      },
      "execution_count": 16,
      "outputs": []
    },
    {
      "cell_type": "code",
      "execution_count": 17,
      "metadata": {
        "id": "mZJsppNlHilt"
      },
      "outputs": [],
      "source": [
        "labels = pd.read_csv('/content/labels.csv')\n",
        "classes  = sorted(list(set(labels['breed'])))\n",
        "n_classes = len(classes)\n",
        "\n",
        "class_to_num = dict(zip(classes , range(n_classes)))\n"
      ]
    },
    {
      "cell_type": "code",
      "source": [
        "pickled_model = pickle.load(open('model1.pkl', 'rb'))"
      ],
      "metadata": {
        "id": "HPAesbflH_Sn"
      },
      "execution_count": 18,
      "outputs": []
    },
    {
      "cell_type": "code",
      "source": [
        "img_size = (250,250,3)\n",
        "path = '/content/images/download.jpeg'\n",
        "Image = (path)\n",
        "img_g = load_img(path,target_size = img_size)\n",
        "img_g = np.expand_dims(img_g,axis=0)"
      ],
      "metadata": {
        "id": "i9wBL8zuH_V8"
      },
      "execution_count": 19,
      "outputs": []
    },
    {
      "cell_type": "code",
      "source": [
        "def get_features(mode_name , model_preprocessor , input_size , data):\n",
        "  input_layer = Input(input_size)\n",
        "  preprocessor = Lambda(model_preprocessor)(input_layer)\n",
        "  base_model = mode_name(weights = 'imagenet' , include_top = False , input_shape = input_size)(preprocessor)\n",
        "  avg  = GlobalAveragePooling2D()(base_model)\n",
        "  feature_extractor = Model(inputs = input_layer , outputs = avg)\n",
        "\n",
        "  # Extract feature\n",
        "  feature_maps = feature_extractor.predict(data,verbose = 1)\n",
        "  # print('Feature maps shape : ',feature_maps.shape)\n",
        "  return feature_maps"
      ],
      "metadata": {
        "id": "QQ0UaRkFJizC"
      },
      "execution_count": 20,
      "outputs": []
    },
    {
      "cell_type": "code",
      "source": [
        "from tqdm import tqdm\n",
        "from __future__ import annotations\n",
        "def images_to_array_test(test_path, img_size = (250,250,3)):\n",
        "  test_filenames = [test_path+fname for fname in os.listdir(test_path)]\n",
        "\n",
        "  data_size = len(test_filenames)\n",
        "  images = np.zeros([data_size , img_size[0] , img_size[1],3],dtype = np.uint8)\n",
        "\n",
        "  for ix,img_dir in enumerate(tqdm(test_filenames)):\n",
        "    img = load_img(img_dir, target_size = img_size)\n",
        "    images[ix] = img\n",
        "    del img\n",
        "  # print('Output Datasize : ',images.shape)\n",
        "  return images"
      ],
      "metadata": {
        "id": "xF7GPAwBUsnq"
      },
      "execution_count": 21,
      "outputs": []
    },
    {
      "cell_type": "code",
      "source": [
        "\n",
        "img = load_img(img_path, target_size = img_size)\n",
        "images = np.zeros([1 , img_size[0] , img_size[1],3],dtype = np.uint8)\n",
        "images[0] = img\n",
        "# images.shape"
      ],
      "metadata": {
        "id": "RD9rSiY0abOs"
      },
      "execution_count": 22,
      "outputs": []
    },
    {
      "cell_type": "code",
      "source": [
        "from keras.applications.inception_v3 import InceptionV3 , preprocess_input\n",
        "inception_preprocessor = preprocess_input\n",
        "from keras.applications.nasnet import NASNetLarge , preprocess_input\n",
        "nasnet_preprocessor = preprocess_input\n",
        "from keras.applications.inception_resnet_v2 import InceptionResNetV2 , preprocess_input\n",
        "inc_resnet_preprocessor = preprocess_input\n",
        "from keras.applications.xception import Xception, preprocess_input\n",
        "xception_preprocessor =  preprocess_input\n",
        "\n",
        "def extract_features(data):\n",
        "  inception_features = get_features(InceptionV3 , inception_preprocessor , img_size , data)\n",
        "  xception_features = get_features(Xception,xception_preprocessor , img_size , data)\n",
        "  nasnet_features = get_features(NASNetLarge,nasnet_preprocessor , img_size , data)\n",
        "  inc_resnet_features = get_features(InceptionResNetV2 , inc_resnet_preprocessor , img_size , data)\n",
        "\n",
        "  final_features = np.concatenate([inception_features , xception_features , nasnet_features , inc_resnet_features],axis = -1)\n",
        "\n",
        "  # print('Final feature maps shape' , final_features.shape)\n",
        "\n",
        "  return final_features\n",
        "\n",
        "test_features = extract_features(images)"
      ],
      "metadata": {
        "colab": {
          "base_uri": "https://localhost:8080/"
        },
        "id": "h3Gi4dFAJLSI",
        "outputId": "2e220a62-3cf1-443e-e734-c63fcffd986d"
      },
      "execution_count": 24,
      "outputs": [
        {
          "output_type": "stream",
          "name": "stderr",
          "text": [
            "WARNING:tensorflow:6 out of the last 6 calls to <function Model.make_predict_function.<locals>.predict_function at 0x7f8ddfcd0b80> triggered tf.function retracing. Tracing is expensive and the excessive number of tracings could be due to (1) creating @tf.function repeatedly in a loop, (2) passing tensors with different shapes, (3) passing Python objects instead of tensors. For (1), please define your @tf.function outside of the loop. For (2), @tf.function has reduce_retracing=True option that can avoid unnecessary retracing. For (3), please refer to https://www.tensorflow.org/guide/function#controlling_retracing and https://www.tensorflow.org/api_docs/python/tf/function for  more details.\n"
          ]
        },
        {
          "output_type": "stream",
          "name": "stdout",
          "text": [
            "1/1 [==============================] - 2s 2s/step\n",
            "Feature maps shape :  (1, 2048)\n",
            "1/1 [==============================] - 1s 1s/step\n",
            "Feature maps shape :  (1, 2048)\n",
            "1/1 [==============================] - 12s 12s/step\n",
            "Feature maps shape :  (1, 4032)\n",
            "1/1 [==============================] - 5s 5s/step\n",
            "Feature maps shape :  (1, 1536)\n"
          ]
        }
      ]
    },
    {
      "cell_type": "code",
      "source": [
        "predg = pickled_model.predict(test_features)"
      ],
      "metadata": {
        "colab": {
          "base_uri": "https://localhost:8080/"
        },
        "id": "KWNFVgbOWKMc",
        "outputId": "3ddf5386-8896-4576-c8bc-2882cc0abfe0"
      },
      "execution_count": 10,
      "outputs": [
        {
          "output_type": "stream",
          "name": "stderr",
          "text": [
            "WARNING:tensorflow:5 out of the last 5 calls to <function Model.make_predict_function.<locals>.predict_function at 0x7f8df01daa70> triggered tf.function retracing. Tracing is expensive and the excessive number of tracings could be due to (1) creating @tf.function repeatedly in a loop, (2) passing tensors with different shapes, (3) passing Python objects instead of tensors. For (1), please define your @tf.function outside of the loop. For (2), @tf.function has reduce_retracing=True option that can avoid unnecessary retracing. For (3), please refer to https://www.tensorflow.org/guide/function#controlling_retracing and https://www.tensorflow.org/api_docs/python/tf/function for  more details.\n"
          ]
        },
        {
          "output_type": "stream",
          "name": "stdout",
          "text": [
            "1/1 [==============================] - 0s 89ms/step\n"
          ]
        }
      ]
    },
    {
      "cell_type": "code",
      "source": [
        "print(f\"{classes[np.argmax(predg[0])]}\")"
      ],
      "metadata": {
        "colab": {
          "base_uri": "https://localhost:8080/"
        },
        "id": "HEj7639RItNJ",
        "outputId": "a3ef621f-612d-4373-dbf0-9903785b678f"
      },
      "execution_count": 11,
      "outputs": [
        {
          "output_type": "stream",
          "name": "stdout",
          "text": [
            "labrador_retriever\n"
          ]
        }
      ]
    },
    {
      "cell_type": "code",
      "source": [],
      "metadata": {
        "id": "PxZJF-vIWhxT"
      },
      "execution_count": 11,
      "outputs": []
    }
  ]
}